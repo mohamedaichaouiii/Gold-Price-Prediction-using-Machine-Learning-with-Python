{
  "nbformat": 4,
  "nbformat_minor": 0,
  "metadata": {
    "colab": {
      "provenance": [],
      "authorship_tag": "ABX9TyNHG2TpVzsaV3Ps95LEZUQt",
      "include_colab_link": true
    },
    "kernelspec": {
      "name": "python3",
      "display_name": "Python 3"
    },
    "language_info": {
      "name": "python"
    }
  },
  "cells": [
    {
      "cell_type": "markdown",
      "metadata": {
        "id": "view-in-github",
        "colab_type": "text"
      },
      "source": [
        "<a href=\"https://colab.research.google.com/github/mohamedaichaouiii/Gold-Price-Prediction-using-Machine-Learning-with-Python/blob/main/Gold_Price_Prediction_using_Machine_Learning_with_Python.ipynb\" target=\"_parent\"><img src=\"https://colab.research.google.com/assets/colab-badge.svg\" alt=\"Open In Colab\"/></a>"
      ]
    },
    {
      "cell_type": "markdown",
      "source": [
        "Hi, My name is Mohamed AICHAOUI and this is my project intitled Gold Price Prediction using Machine Learning with Python"
      ],
      "metadata": {
        "id": "ypfyv3yo60GK"
      }
    },
    {
      "cell_type": "markdown",
      "source": [
        "Let's start by Importing the Libraries\n"
      ],
      "metadata": {
        "id": "CJTZsamP7Pnm"
      }
    },
    {
      "cell_type": "code",
      "source": [
        "import numpy as np\n",
        "import pandas as pd\n",
        "import matplotlib.pyplot as plt\n",
        "import seaborn as sns\n",
        "from sklearn.model_selection import train_test_split\n",
        "from sklearn.ensemble import RandomForestRegressor\n",
        "from sklearn import metrics"
      ],
      "metadata": {
        "id": "15i5LTnw7A1r"
      },
      "execution_count": 2,
      "outputs": []
    },
    {
      "cell_type": "markdown",
      "source": [
        "Data Collection and Data Processing"
      ],
      "metadata": {
        "id": "841Spdae7Yx8"
      }
    },
    {
      "cell_type": "code",
      "source": [],
      "metadata": {
        "id": "UxhtKS-37aWU"
      },
      "execution_count": null,
      "outputs": []
    }
  ]
}